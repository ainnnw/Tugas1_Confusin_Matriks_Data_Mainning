{
 "cells": [
  {
   "attachments": {},
   "cell_type": "markdown",
   "id": "6428252e",
   "metadata": {},
   "source": [
    "<h1>MECHINE LEARNING METODE SVC \n",
    " (Support Vector Classification) \n",
    "UNTUK MENENTUKAN NILAI PRECISSION,RECALL,F1 SCORE DAN ACCURASI <h1>"
   ]
  },
  {
   "cell_type": "code",
   "execution_count": 1,
   "id": "b6353118",
   "metadata": {},
   "outputs": [],
   "source": [
    "#instalasi modul pastikan saudah mendwonload modul libary seperti dibawah jika belum hilangkan tanda #\n",
    "#!pip install pandas\n",
    "#!pip install numpy\n",
    "#!pip install scikit-learn\n",
    "#!pip install nltk\n",
    "#!pip install seaborn\n",
    "#!pip install matplotlib\n"
   ]
  },
  {
   "cell_type": "code",
   "execution_count": 2,
   "id": "5a20fd09",
   "metadata": {},
   "outputs": [],
   "source": [
    "import pandas as pd\n",
    "import numpy as np\n",
    "from sklearn.metrics import confusion_matrix\n",
    "from sklearn.metrics import precision_score\n",
    "from sklearn.model_selection import train_test_split\n",
    "import nltk\n",
    "import seaborn as sns\n",
    "import matplotlib.pyplot as plt\n",
    "from nltk.corpus import stopwords\n",
    "from nltk.tokenize import word_tokenize\n",
    "from sklearn.svm import SVC\n",
    "from sklearn.feature_extraction.text import TfidfVectorizer\n",
    "from sklearn.model_selection import train_test_split\n",
    "from sklearn.metrics import classification_report\n",
    "import re"
   ]
  },
  {
   "cell_type": "code",
   "execution_count": 3,
   "id": "0c48939a",
   "metadata": {},
   "outputs": [],
   "source": [
    "#langkah pertama dalam membuat confusion matrik menggunkan metode Support Vector Classification\n",
    "# MEMPERSIPKAN DATA"
   ]
  },
  {
   "cell_type": "code",
   "execution_count": 4,
   "id": "98302431",
   "metadata": {},
   "outputs": [],
   "source": [
    "#pemanggilan data\n",
    "#atur sesuai path penyimpanan file di device yang digunakan data = pd.read_excel(r'alur path.xlsx')"
   ]
  },
  {
   "cell_type": "code",
   "execution_count": 5,
   "id": "d2af6fc0",
   "metadata": {},
   "outputs": [],
   "source": [
    "data = pd.read_excel(r'C:\\Users\\AinXD\\.kaggle\\datajuduljurnal.xlsx')"
   ]
  },
  {
   "cell_type": "code",
   "execution_count": 6,
   "id": "ff0372a3",
   "metadata": {},
   "outputs": [],
   "source": [
    "#show data"
   ]
  },
  {
   "cell_type": "code",
   "execution_count": 7,
   "id": "edd009d8",
   "metadata": {},
   "outputs": [
    {
     "data": {
      "text/html": [
       "<div>\n",
       "<style scoped>\n",
       "    .dataframe tbody tr th:only-of-type {\n",
       "        vertical-align: middle;\n",
       "    }\n",
       "\n",
       "    .dataframe tbody tr th {\n",
       "        vertical-align: top;\n",
       "    }\n",
       "\n",
       "    .dataframe thead th {\n",
       "        text-align: right;\n",
       "    }\n",
       "</style>\n",
       "<table border=\"1\" class=\"dataframe\">\n",
       "  <thead>\n",
       "    <tr style=\"text-align: right;\">\n",
       "      <th></th>\n",
       "      <th>jaringan komputer</th>\n",
       "      <th>kriptografi</th>\n",
       "      <th>sistempakar</th>\n",
       "      <th>klasifikasi</th>\n",
       "    </tr>\n",
       "  </thead>\n",
       "  <tbody>\n",
       "    <tr>\n",
       "      <th>0</th>\n",
       "      <td>Sistem Monitoring Spesifikasi dan Utilitas Hos...</td>\n",
       "      <td>Pengamanan Komputer Menggunakan Kriptografi CI...</td>\n",
       "      <td>SISTEM PAKAR DIAGNOSA HAMA PENYAKIT TANAMAN TA...</td>\n",
       "      <td>jaringan komputer</td>\n",
       "    </tr>\n",
       "    <tr>\n",
       "      <th>1</th>\n",
       "      <td>IMPLEMENTASI JARINGAN KOMPUTER PADA PERPUSTAKA...</td>\n",
       "      <td>ENKRIPSI DAN DEKRIPSI AUDIO FORMAT AMR DENGAN ...</td>\n",
       "      <td>SISTEM PAKAR UNTUK HAMA DAN PENYAKIT TANAMAN C...</td>\n",
       "      <td>kriptografi</td>\n",
       "    </tr>\n",
       "    <tr>\n",
       "      <th>2</th>\n",
       "      <td>APLIKASI AGEN BERGERAK UNTUK PENDETEKSIAN PENY...</td>\n",
       "      <td>PERANAN KRIPTOGRAFI SEBAGAI KEAMANAN SISTEM IN...</td>\n",
       "      <td>Aplikasi Sistem Pakar Untuk Mendiagnosa Penyak...</td>\n",
       "      <td>sistem pakar</td>\n",
       "    </tr>\n",
       "    <tr>\n",
       "      <th>3</th>\n",
       "      <td>ANALISIS KINERJA ANOMALY-BASED INTRUSION DETEC...</td>\n",
       "      <td>Penerapan Algoritma Kriptografi ElGamal untuk ...</td>\n",
       "      <td>SISTEM PAKAR MENGGUNAKAN METODE CASE BASED REA...</td>\n",
       "      <td>jaringan komputer</td>\n",
       "    </tr>\n",
       "    <tr>\n",
       "      <th>4</th>\n",
       "      <td>Prediksi Kemacetan pada Jaringan Komputer Meng...</td>\n",
       "      <td>E-LEARNING KRIPTOGRAFI DENGAN VIRTUAL CLASS BE...</td>\n",
       "      <td>SISTEM PAKAR PENENTUAN JENIS PLANKTONIC FORAMI...</td>\n",
       "      <td>kriptografi</td>\n",
       "    </tr>\n",
       "    <tr>\n",
       "      <th>5</th>\n",
       "      <td>Perancangan Sistem Jaringan Komputer Menggunak...</td>\n",
       "      <td>Kriptografi Advanced Encryption Standard (AES)...</td>\n",
       "      <td>ISTEM PAKAR PENENTUAN JENIS PENYAKIT HATI  DEN...</td>\n",
       "      <td>sistem pakar</td>\n",
       "    </tr>\n",
       "    <tr>\n",
       "      <th>6</th>\n",
       "      <td>Sistem Pakar Fuzzy Untuk Optimasi Penggunaan B...</td>\n",
       "      <td>SISTEM KEAMANAN WEB DENGAN MENGGUNAKAN KRIPTOG...</td>\n",
       "      <td>Sistem Pakar Untuk Mengidentifikasi Hama Dan P...</td>\n",
       "      <td>jaringan komputer</td>\n",
       "    </tr>\n",
       "    <tr>\n",
       "      <th>7</th>\n",
       "      <td>DESAIN JARINGAN KOMPUTER PADA PERUSAHAANYANG S...</td>\n",
       "      <td>Perancangan Teknik Kriptografi Block Cipher Be...</td>\n",
       "      <td>KONSENSUS PAKAR ANATOMI INDONESIA MENGENAI MAT...</td>\n",
       "      <td>kriptografi</td>\n",
       "    </tr>\n",
       "    <tr>\n",
       "      <th>8</th>\n",
       "      <td>PERANAN PERANGKAT KERAS DAN PERANGKAT LUNAK DA...</td>\n",
       "      <td>KRIPTOGRAFI ALGORITMA DES, AES/RIJNDAEL, BLOWF...</td>\n",
       "      <td>IMPLEMENTASI SISTEM PAKAR PADA PEMILIHAN VARIE...</td>\n",
       "      <td>sistem pakar</td>\n",
       "    </tr>\n",
       "    <tr>\n",
       "      <th>9</th>\n",
       "      <td>Analisis dan perancangan jaringan komputer Sek...</td>\n",
       "      <td>IMPLEMENTASI ALGORITMA ADVANCED ENCRYPTION STA...</td>\n",
       "      <td>PENERAPAN METODE CERTINTY FACTOR(CF) DALAM PEM...</td>\n",
       "      <td>jaringan komputer</td>\n",
       "    </tr>\n",
       "  </tbody>\n",
       "</table>\n",
       "</div>"
      ],
      "text/plain": [
       "                                   jaringan komputer  \\\n",
       "0  Sistem Monitoring Spesifikasi dan Utilitas Hos...   \n",
       "1  IMPLEMENTASI JARINGAN KOMPUTER PADA PERPUSTAKA...   \n",
       "2  APLIKASI AGEN BERGERAK UNTUK PENDETEKSIAN PENY...   \n",
       "3  ANALISIS KINERJA ANOMALY-BASED INTRUSION DETEC...   \n",
       "4  Prediksi Kemacetan pada Jaringan Komputer Meng...   \n",
       "5  Perancangan Sistem Jaringan Komputer Menggunak...   \n",
       "6  Sistem Pakar Fuzzy Untuk Optimasi Penggunaan B...   \n",
       "7  DESAIN JARINGAN KOMPUTER PADA PERUSAHAANYANG S...   \n",
       "8  PERANAN PERANGKAT KERAS DAN PERANGKAT LUNAK DA...   \n",
       "9  Analisis dan perancangan jaringan komputer Sek...   \n",
       "\n",
       "                                         kriptografi  \\\n",
       "0  Pengamanan Komputer Menggunakan Kriptografi CI...   \n",
       "1  ENKRIPSI DAN DEKRIPSI AUDIO FORMAT AMR DENGAN ...   \n",
       "2  PERANAN KRIPTOGRAFI SEBAGAI KEAMANAN SISTEM IN...   \n",
       "3  Penerapan Algoritma Kriptografi ElGamal untuk ...   \n",
       "4  E-LEARNING KRIPTOGRAFI DENGAN VIRTUAL CLASS BE...   \n",
       "5  Kriptografi Advanced Encryption Standard (AES)...   \n",
       "6  SISTEM KEAMANAN WEB DENGAN MENGGUNAKAN KRIPTOG...   \n",
       "7  Perancangan Teknik Kriptografi Block Cipher Be...   \n",
       "8  KRIPTOGRAFI ALGORITMA DES, AES/RIJNDAEL, BLOWF...   \n",
       "9  IMPLEMENTASI ALGORITMA ADVANCED ENCRYPTION STA...   \n",
       "\n",
       "                                         sistempakar        klasifikasi  \n",
       "0  SISTEM PAKAR DIAGNOSA HAMA PENYAKIT TANAMAN TA...  jaringan komputer  \n",
       "1  SISTEM PAKAR UNTUK HAMA DAN PENYAKIT TANAMAN C...        kriptografi  \n",
       "2  Aplikasi Sistem Pakar Untuk Mendiagnosa Penyak...       sistem pakar  \n",
       "3  SISTEM PAKAR MENGGUNAKAN METODE CASE BASED REA...  jaringan komputer  \n",
       "4  SISTEM PAKAR PENENTUAN JENIS PLANKTONIC FORAMI...        kriptografi  \n",
       "5  ISTEM PAKAR PENENTUAN JENIS PENYAKIT HATI  DEN...       sistem pakar  \n",
       "6  Sistem Pakar Untuk Mengidentifikasi Hama Dan P...  jaringan komputer  \n",
       "7  KONSENSUS PAKAR ANATOMI INDONESIA MENGENAI MAT...        kriptografi  \n",
       "8  IMPLEMENTASI SISTEM PAKAR PADA PEMILIHAN VARIE...       sistem pakar  \n",
       "9  PENERAPAN METODE CERTINTY FACTOR(CF) DALAM PEM...  jaringan komputer  "
      ]
     },
     "execution_count": 7,
     "metadata": {},
     "output_type": "execute_result"
    }
   ],
   "source": [
    "data\n"
   ]
  },
  {
   "cell_type": "code",
   "execution_count": 8,
   "id": "7d16f47c",
   "metadata": {},
   "outputs": [],
   "source": [
    "#pre-processing mengubah data menjadi huruf kecil"
   ]
  },
  {
   "cell_type": "code",
   "execution_count": 9,
   "id": "4a718dbf",
   "metadata": {},
   "outputs": [],
   "source": [
    "data['jaringan komputer'] = data['jaringan komputer'].str.lower()\n",
    "data['kriptografi'] = data['kriptografi'].str.lower()\n",
    "data['sistempakar'] = data['sistempakar'].str.lower()\n",
    "data['klasifikasi'] = data['klasifikasi'].str.lower()"
   ]
  },
  {
   "cell_type": "code",
   "execution_count": 10,
   "id": "f95b839f",
   "metadata": {},
   "outputs": [
    {
     "data": {
      "text/html": [
       "<div>\n",
       "<style scoped>\n",
       "    .dataframe tbody tr th:only-of-type {\n",
       "        vertical-align: middle;\n",
       "    }\n",
       "\n",
       "    .dataframe tbody tr th {\n",
       "        vertical-align: top;\n",
       "    }\n",
       "\n",
       "    .dataframe thead th {\n",
       "        text-align: right;\n",
       "    }\n",
       "</style>\n",
       "<table border=\"1\" class=\"dataframe\">\n",
       "  <thead>\n",
       "    <tr style=\"text-align: right;\">\n",
       "      <th></th>\n",
       "      <th>jaringan komputer</th>\n",
       "      <th>kriptografi</th>\n",
       "      <th>sistempakar</th>\n",
       "      <th>klasifikasi</th>\n",
       "    </tr>\n",
       "  </thead>\n",
       "  <tbody>\n",
       "    <tr>\n",
       "      <th>0</th>\n",
       "      <td>sistem monitoring spesifikasi dan utilitas hos...</td>\n",
       "      <td>pengamanan komputer menggunakan kriptografi ci...</td>\n",
       "      <td>sistem pakar diagnosa hama penyakit tanaman ta...</td>\n",
       "      <td>jaringan komputer</td>\n",
       "    </tr>\n",
       "    <tr>\n",
       "      <th>1</th>\n",
       "      <td>implementasi jaringan komputer pada perpustaka...</td>\n",
       "      <td>enkripsi dan dekripsi audio format amr dengan ...</td>\n",
       "      <td>sistem pakar untuk hama dan penyakit tanaman c...</td>\n",
       "      <td>kriptografi</td>\n",
       "    </tr>\n",
       "    <tr>\n",
       "      <th>2</th>\n",
       "      <td>aplikasi agen bergerak untuk pendeteksian peny...</td>\n",
       "      <td>peranan kriptografi sebagai keamanan sistem in...</td>\n",
       "      <td>aplikasi sistem pakar untuk mendiagnosa penyak...</td>\n",
       "      <td>sistem pakar</td>\n",
       "    </tr>\n",
       "    <tr>\n",
       "      <th>3</th>\n",
       "      <td>analisis kinerja anomaly-based intrusion detec...</td>\n",
       "      <td>penerapan algoritma kriptografi elgamal untuk ...</td>\n",
       "      <td>sistem pakar menggunakan metode case based rea...</td>\n",
       "      <td>jaringan komputer</td>\n",
       "    </tr>\n",
       "    <tr>\n",
       "      <th>4</th>\n",
       "      <td>prediksi kemacetan pada jaringan komputer meng...</td>\n",
       "      <td>e-learning kriptografi dengan virtual class be...</td>\n",
       "      <td>sistem pakar penentuan jenis planktonic forami...</td>\n",
       "      <td>kriptografi</td>\n",
       "    </tr>\n",
       "    <tr>\n",
       "      <th>5</th>\n",
       "      <td>perancangan sistem jaringan komputer menggunak...</td>\n",
       "      <td>kriptografi advanced encryption standard (aes)...</td>\n",
       "      <td>istem pakar penentuan jenis penyakit hati  den...</td>\n",
       "      <td>sistem pakar</td>\n",
       "    </tr>\n",
       "    <tr>\n",
       "      <th>6</th>\n",
       "      <td>sistem pakar fuzzy untuk optimasi penggunaan b...</td>\n",
       "      <td>sistem keamanan web dengan menggunakan kriptog...</td>\n",
       "      <td>sistem pakar untuk mengidentifikasi hama dan p...</td>\n",
       "      <td>jaringan komputer</td>\n",
       "    </tr>\n",
       "    <tr>\n",
       "      <th>7</th>\n",
       "      <td>desain jaringan komputer pada perusahaanyang s...</td>\n",
       "      <td>perancangan teknik kriptografi block cipher be...</td>\n",
       "      <td>konsensus pakar anatomi indonesia mengenai mat...</td>\n",
       "      <td>kriptografi</td>\n",
       "    </tr>\n",
       "    <tr>\n",
       "      <th>8</th>\n",
       "      <td>peranan perangkat keras dan perangkat lunak da...</td>\n",
       "      <td>kriptografi algoritma des, aes/rijndael, blowf...</td>\n",
       "      <td>implementasi sistem pakar pada pemilihan varie...</td>\n",
       "      <td>sistem pakar</td>\n",
       "    </tr>\n",
       "    <tr>\n",
       "      <th>9</th>\n",
       "      <td>analisis dan perancangan jaringan komputer sek...</td>\n",
       "      <td>implementasi algoritma advanced encryption sta...</td>\n",
       "      <td>penerapan metode certinty factor(cf) dalam pem...</td>\n",
       "      <td>jaringan komputer</td>\n",
       "    </tr>\n",
       "  </tbody>\n",
       "</table>\n",
       "</div>"
      ],
      "text/plain": [
       "                                   jaringan komputer  \\\n",
       "0  sistem monitoring spesifikasi dan utilitas hos...   \n",
       "1  implementasi jaringan komputer pada perpustaka...   \n",
       "2  aplikasi agen bergerak untuk pendeteksian peny...   \n",
       "3  analisis kinerja anomaly-based intrusion detec...   \n",
       "4  prediksi kemacetan pada jaringan komputer meng...   \n",
       "5  perancangan sistem jaringan komputer menggunak...   \n",
       "6  sistem pakar fuzzy untuk optimasi penggunaan b...   \n",
       "7  desain jaringan komputer pada perusahaanyang s...   \n",
       "8  peranan perangkat keras dan perangkat lunak da...   \n",
       "9  analisis dan perancangan jaringan komputer sek...   \n",
       "\n",
       "                                         kriptografi  \\\n",
       "0  pengamanan komputer menggunakan kriptografi ci...   \n",
       "1  enkripsi dan dekripsi audio format amr dengan ...   \n",
       "2  peranan kriptografi sebagai keamanan sistem in...   \n",
       "3  penerapan algoritma kriptografi elgamal untuk ...   \n",
       "4  e-learning kriptografi dengan virtual class be...   \n",
       "5  kriptografi advanced encryption standard (aes)...   \n",
       "6  sistem keamanan web dengan menggunakan kriptog...   \n",
       "7  perancangan teknik kriptografi block cipher be...   \n",
       "8  kriptografi algoritma des, aes/rijndael, blowf...   \n",
       "9  implementasi algoritma advanced encryption sta...   \n",
       "\n",
       "                                         sistempakar        klasifikasi  \n",
       "0  sistem pakar diagnosa hama penyakit tanaman ta...  jaringan komputer  \n",
       "1  sistem pakar untuk hama dan penyakit tanaman c...        kriptografi  \n",
       "2  aplikasi sistem pakar untuk mendiagnosa penyak...       sistem pakar  \n",
       "3  sistem pakar menggunakan metode case based rea...  jaringan komputer  \n",
       "4  sistem pakar penentuan jenis planktonic forami...        kriptografi  \n",
       "5  istem pakar penentuan jenis penyakit hati  den...       sistem pakar  \n",
       "6  sistem pakar untuk mengidentifikasi hama dan p...  jaringan komputer  \n",
       "7  konsensus pakar anatomi indonesia mengenai mat...        kriptografi  \n",
       "8  implementasi sistem pakar pada pemilihan varie...       sistem pakar  \n",
       "9  penerapan metode certinty factor(cf) dalam pem...  jaringan komputer  "
      ]
     },
     "execution_count": 10,
     "metadata": {},
     "output_type": "execute_result"
    }
   ],
   "source": [
    "data"
   ]
  },
  {
   "cell_type": "code",
   "execution_count": 11,
   "id": "79e80520",
   "metadata": {},
   "outputs": [],
   "source": [
    "#menghilangkan stopword "
   ]
  },
  {
   "cell_type": "code",
   "execution_count": 12,
   "id": "395d4a77",
   "metadata": {},
   "outputs": [],
   "source": [
    "# pre procesing\n",
    "\n",
    "def preprocess_text(text):\n",
    "    if isinstance(text, str):\n",
    "        \n",
    "# Menghapus angka\n",
    "        text = re.sub(r'\\d+', '', text)  \n",
    "    \n",
    "# Menghapus karakter khusus\n",
    "        text = re.sub(r'[^\\w\\s]', '', text)\n",
    "    \n",
    "# Mengubah teks menjadi lowercase\n",
    "        text = text.lower() \n",
    "    return text\n",
    "for key in data:\n",
    "    data[key] = data[key].apply(preprocess_text)\n"
   ]
  },
  {
   "cell_type": "code",
   "execution_count": 13,
   "id": "5ac00cb0",
   "metadata": {},
   "outputs": [
    {
     "data": {
      "text/html": [
       "<div>\n",
       "<style scoped>\n",
       "    .dataframe tbody tr th:only-of-type {\n",
       "        vertical-align: middle;\n",
       "    }\n",
       "\n",
       "    .dataframe tbody tr th {\n",
       "        vertical-align: top;\n",
       "    }\n",
       "\n",
       "    .dataframe thead th {\n",
       "        text-align: right;\n",
       "    }\n",
       "</style>\n",
       "<table border=\"1\" class=\"dataframe\">\n",
       "  <thead>\n",
       "    <tr style=\"text-align: right;\">\n",
       "      <th></th>\n",
       "      <th>jaringan komputer</th>\n",
       "      <th>kriptografi</th>\n",
       "      <th>sistempakar</th>\n",
       "      <th>klasifikasi</th>\n",
       "    </tr>\n",
       "  </thead>\n",
       "  <tbody>\n",
       "    <tr>\n",
       "      <th>0</th>\n",
       "      <td>sistem monitoring spesifikasi dan utilitas hos...</td>\n",
       "      <td>pengamanan komputer menggunakan kriptografi ci...</td>\n",
       "      <td>sistem pakar diagnosa hama penyakit tanaman ta...</td>\n",
       "      <td>jaringan komputer</td>\n",
       "    </tr>\n",
       "    <tr>\n",
       "      <th>1</th>\n",
       "      <td>implementasi jaringan komputer pada perpustaka...</td>\n",
       "      <td>enkripsi dan dekripsi audio format amr dengan ...</td>\n",
       "      <td>sistem pakar untuk hama dan penyakit tanaman c...</td>\n",
       "      <td>kriptografi</td>\n",
       "    </tr>\n",
       "    <tr>\n",
       "      <th>2</th>\n",
       "      <td>aplikasi agen bergerak untuk pendeteksian peny...</td>\n",
       "      <td>peranan kriptografi sebagai keamanan sistem in...</td>\n",
       "      <td>aplikasi sistem pakar untuk mendiagnosa penyak...</td>\n",
       "      <td>sistem pakar</td>\n",
       "    </tr>\n",
       "    <tr>\n",
       "      <th>3</th>\n",
       "      <td>analisis kinerja anomalybased intrusion detect...</td>\n",
       "      <td>penerapan algoritma kriptografi elgamal untuk ...</td>\n",
       "      <td>sistem pakar menggunakan metode case based rea...</td>\n",
       "      <td>jaringan komputer</td>\n",
       "    </tr>\n",
       "    <tr>\n",
       "      <th>4</th>\n",
       "      <td>prediksi kemacetan pada jaringan komputer meng...</td>\n",
       "      <td>elearning kriptografi dengan virtual class ber...</td>\n",
       "      <td>sistem pakar penentuan jenis planktonic forami...</td>\n",
       "      <td>kriptografi</td>\n",
       "    </tr>\n",
       "    <tr>\n",
       "      <th>5</th>\n",
       "      <td>perancangan sistem jaringan komputer menggunak...</td>\n",
       "      <td>kriptografi advanced encryption standard aes u...</td>\n",
       "      <td>istem pakar penentuan jenis penyakit hati  den...</td>\n",
       "      <td>sistem pakar</td>\n",
       "    </tr>\n",
       "    <tr>\n",
       "      <th>6</th>\n",
       "      <td>sistem pakar fuzzy untuk optimasi penggunaan b...</td>\n",
       "      <td>sistem keamanan web dengan menggunakan kriptog...</td>\n",
       "      <td>sistem pakar untuk mengidentifikasi hama dan p...</td>\n",
       "      <td>jaringan komputer</td>\n",
       "    </tr>\n",
       "    <tr>\n",
       "      <th>7</th>\n",
       "      <td>desain jaringan komputer pada perusahaanyang s...</td>\n",
       "      <td>perancangan teknik kriptografi block cipher be...</td>\n",
       "      <td>konsensus pakar anatomi indonesia mengenai mat...</td>\n",
       "      <td>kriptografi</td>\n",
       "    </tr>\n",
       "    <tr>\n",
       "      <th>8</th>\n",
       "      <td>peranan perangkat keras dan perangkat lunak da...</td>\n",
       "      <td>kriptografi algoritma des aesrijndael blowfish...</td>\n",
       "      <td>implementasi sistem pakar pada pemilihan varie...</td>\n",
       "      <td>sistem pakar</td>\n",
       "    </tr>\n",
       "    <tr>\n",
       "      <th>9</th>\n",
       "      <td>analisis dan perancangan jaringan komputer sek...</td>\n",
       "      <td>implementasi algoritma advanced encryption sta...</td>\n",
       "      <td>penerapan metode certinty factorcf dalam pembu...</td>\n",
       "      <td>jaringan komputer</td>\n",
       "    </tr>\n",
       "  </tbody>\n",
       "</table>\n",
       "</div>"
      ],
      "text/plain": [
       "                                   jaringan komputer  \\\n",
       "0  sistem monitoring spesifikasi dan utilitas hos...   \n",
       "1  implementasi jaringan komputer pada perpustaka...   \n",
       "2  aplikasi agen bergerak untuk pendeteksian peny...   \n",
       "3  analisis kinerja anomalybased intrusion detect...   \n",
       "4  prediksi kemacetan pada jaringan komputer meng...   \n",
       "5  perancangan sistem jaringan komputer menggunak...   \n",
       "6  sistem pakar fuzzy untuk optimasi penggunaan b...   \n",
       "7  desain jaringan komputer pada perusahaanyang s...   \n",
       "8  peranan perangkat keras dan perangkat lunak da...   \n",
       "9  analisis dan perancangan jaringan komputer sek...   \n",
       "\n",
       "                                         kriptografi  \\\n",
       "0  pengamanan komputer menggunakan kriptografi ci...   \n",
       "1  enkripsi dan dekripsi audio format amr dengan ...   \n",
       "2  peranan kriptografi sebagai keamanan sistem in...   \n",
       "3  penerapan algoritma kriptografi elgamal untuk ...   \n",
       "4  elearning kriptografi dengan virtual class ber...   \n",
       "5  kriptografi advanced encryption standard aes u...   \n",
       "6  sistem keamanan web dengan menggunakan kriptog...   \n",
       "7  perancangan teknik kriptografi block cipher be...   \n",
       "8  kriptografi algoritma des aesrijndael blowfish...   \n",
       "9  implementasi algoritma advanced encryption sta...   \n",
       "\n",
       "                                         sistempakar        klasifikasi  \n",
       "0  sistem pakar diagnosa hama penyakit tanaman ta...  jaringan komputer  \n",
       "1  sistem pakar untuk hama dan penyakit tanaman c...        kriptografi  \n",
       "2  aplikasi sistem pakar untuk mendiagnosa penyak...       sistem pakar  \n",
       "3  sistem pakar menggunakan metode case based rea...  jaringan komputer  \n",
       "4  sistem pakar penentuan jenis planktonic forami...        kriptografi  \n",
       "5  istem pakar penentuan jenis penyakit hati  den...       sistem pakar  \n",
       "6  sistem pakar untuk mengidentifikasi hama dan p...  jaringan komputer  \n",
       "7  konsensus pakar anatomi indonesia mengenai mat...        kriptografi  \n",
       "8  implementasi sistem pakar pada pemilihan varie...       sistem pakar  \n",
       "9  penerapan metode certinty factorcf dalam pembu...  jaringan komputer  "
      ]
     },
     "execution_count": 13,
     "metadata": {},
     "output_type": "execute_result"
    }
   ],
   "source": [
    "data"
   ]
  },
  {
   "cell_type": "code",
   "execution_count": 14,
   "id": "76d00bb3",
   "metadata": {},
   "outputs": [],
   "source": [
    "#LANGKAH KE 2 TRANSFORMASI DATA"
   ]
  },
  {
   "cell_type": "code",
   "execution_count": 15,
   "id": "eb45252c",
   "metadata": {},
   "outputs": [],
   "source": [
    "#membuat dataframe"
   ]
  },
  {
   "cell_type": "code",
   "execution_count": 16,
   "id": "1ca54905",
   "metadata": {},
   "outputs": [],
   "source": [
    "# Memisahkan fitur (X) dan label (y)\n",
    "df = pd.DataFrame(data)\n",
    "X = df['jaringan komputer'] +df['sistempakar']+df['kriptografi']\n",
    "y = df['klasifikasi']\n",
    "#PENJELASAN\n",
    "#variabel 'X' dibuat dengan menggabungkan nilai dari kolom 'jaringan komputer,kriptografi dan sistem pakar', 'sistempakar', dan 'kriptografi' pada DataFrame 'df’. \n",
    "#Variabel 'y' berisi nilai dari kolom 'klasifikasi' pada DataFrame 'df'\n"
   ]
  },
  {
   "cell_type": "code",
   "execution_count": 17,
   "id": "d366d392",
   "metadata": {},
   "outputs": [],
   "source": [
    "vectorizer = TfidfVectorizer(stop_words='english')\n",
    "X = vectorizer.fit_transform(X)\n",
    "#penjelasan\n",
    "#vectorizer memanggil fungsi TF-IDF (Term Frequency-Inverse Document Frequency)\n",
    "#TD-IDF sendiri sederhananya semakin banyak kata yang sering muncul maka nilainya semakin tinggi"
   ]
  },
  {
   "cell_type": "code",
   "execution_count": 18,
   "id": "6e0c0daa",
   "metadata": {},
   "outputs": [],
   "source": [
    "# Membagi data menjadi data latih dan data uji\n",
    "X_train, X_test, y_train, y_test = train_test_split(X, y, test_size=0.7, random_state=40)\n",
    "#penjelasan\n",
    "#data tes yang digunakan 70% dari total keseluruhan data\n",
    "#dan data uji digunkan 30 %"
   ]
  },
  {
   "cell_type": "code",
   "execution_count": 19,
   "id": "9025d0d4",
   "metadata": {},
   "outputs": [],
   "source": [
    "#LANGKAH 3 MEMBANGUN MODEL"
   ]
  },
  {
   "cell_type": "code",
   "execution_count": 20,
   "id": "890ee2b5",
   "metadata": {},
   "outputs": [],
   "source": [
    "#mengisnisiasikan model SVC\n",
    "svm = SVC(kernel='linear')\n"
   ]
  },
  {
   "cell_type": "code",
   "execution_count": 21,
   "id": "b276d2a2",
   "metadata": {},
   "outputs": [],
   "source": [
    "#LANGKAH 4 MELATIH MODEL"
   ]
  },
  {
   "cell_type": "code",
   "execution_count": 22,
   "id": "2e30dcba",
   "metadata": {},
   "outputs": [
    {
     "data": {
      "text/plain": [
       "SVC(kernel='linear')"
      ]
     },
     "execution_count": 22,
     "metadata": {},
     "output_type": "execute_result"
    }
   ],
   "source": [
    "#melatih model\n",
    "svm.fit(X_train, y_train)"
   ]
  },
  {
   "cell_type": "code",
   "execution_count": 23,
   "id": "fe1a2265",
   "metadata": {},
   "outputs": [],
   "source": [
    "#LANGKAH 5 MENGUJI MODEL"
   ]
  },
  {
   "cell_type": "code",
   "execution_count": 24,
   "id": "2851d4a2",
   "metadata": {},
   "outputs": [],
   "source": [
    "y_pred = svm.predict(X_test)"
   ]
  },
  {
   "cell_type": "code",
   "execution_count": 25,
   "id": "f344308b",
   "metadata": {},
   "outputs": [],
   "source": [
    "#LANGKAH 6 EVALUASI MODEL"
   ]
  },
  {
   "cell_type": "code",
   "execution_count": 26,
   "id": "f07b38c7",
   "metadata": {
    "scrolled": true
   },
   "outputs": [
    {
     "name": "stdout",
     "output_type": "stream",
     "text": [
      "                   precision    recall  f1-score   support\n",
      "\n",
      "jaringan komputer       0.33      0.67      0.44         3\n",
      "      kriptografi       0.00      0.00      0.00         2\n",
      "     sistem pakar       0.00      0.00      0.00         2\n",
      "\n",
      "         accuracy                           0.29         7\n",
      "        macro avg       0.11      0.22      0.15         7\n",
      "     weighted avg       0.14      0.29      0.19         7\n",
      "\n"
     ]
    }
   ],
   "source": [
    "report = classification_report(y_test, y_pred, zero_division=0)\n",
    "print(report)"
   ]
  },
  {
   "cell_type": "code",
   "execution_count": 27,
   "id": "0f587c71",
   "metadata": {},
   "outputs": [
    {
     "name": "stdout",
     "output_type": "stream",
     "text": [
      "Confusion Matrix:\n",
      "[[2 0 1]\n",
      " [2 0 0]\n",
      " [2 0 0]]\n"
     ]
    }
   ],
   "source": [
    "cm = confusion_matrix(y_test, y_pred)\n",
    "print(\"Confusion Matrix:\")\n",
    "print(cm)"
   ]
  },
  {
   "cell_type": "code",
   "execution_count": 28,
   "id": "f0940ff3",
   "metadata": {},
   "outputs": [
    {
     "data": {
      "image/png": "[encoded data removed]",
      "text/plain": [
       "<Figure size 640x480 with 2 Axes>"
      ]
     },
     "metadata": {},
     "output_type": "display_data"
    }
   ],
   "source": [
    "cm = confusion_matrix(y_test, y_pred)\n",
    "sns.heatmap(cm, annot=True, cmap='Blues', xticklabels=sorted(set(y)), yticklabels=sorted(set(y)))\n",
    "plt.xlabel('Prediksi')\n",
    "plt.ylabel('Akurasi')\n",
    "plt.title('Confusion Matrix')\n",
    "plt.show()"
   ]
  },
  {
   "cell_type": "code",
   "execution_count": 29,
   "id": "bf69f7f3",
   "metadata": {},
   "outputs": [],
   "source": [
    "#KESIMPULAN\n",
    "#Hasil confusion pengetesan model kurang berhasil melakukan klasifikasi dengan baik\n",
    "#Ini ditunjukan dengan nilai mmodel preforma precison,recall dan f1-score yang rendah\n",
    "#Pada kriptografi dan system pakar ,namun memiliki nilai yang cukup[ pada jaringan computer\n",
    "#Serta nilai acurasi 0.29 atau 29% dari seluruh prediksi model benar\n",
    "#Ini dipengaruhi beberpa hal seperti data yang kurang banyak,pelatihan model hanya sekali,dat tingkat kebagusan data"
   ]
  },
  {
   "cell_type": "code",
   "execution_count": null,
   "id": "f343291f",
   "metadata": {},
   "outputs": [],
   "source": []
  }
 ],
 "metadata": {
  "kernelspec": {
   "display_name": "Python 3 (ipykernel)",
   "language": "python",
   "name": "python3"
  },
  "language_info": {
   "codemirror_mode": {
    "name": "ipython",
    "version": 3
   },
   "file_extension": ".py",
   "mimetype": "text/x-python",
   "name": "python",
   "nbconvert_exporter": "python",
   "pygments_lexer": "ipython3",
   "version": "3.7.6"
  }
 },
 "nbformat": 4,
 "nbformat_minor": 5
}
